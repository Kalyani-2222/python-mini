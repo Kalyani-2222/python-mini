{
  "nbformat": 4,
  "nbformat_minor": 0,
  "metadata": {
    "colab": {
      "provenance": []
    },
    "kernelspec": {
      "name": "python3",
      "display_name": "Python 3"
    },
    "language_info": {
      "name": "python"
    }
  },
  "cells": [
    {
      "cell_type": "code",
      "execution_count": 1,
      "metadata": {
        "colab": {
          "base_uri": "https://localhost:8080/"
        },
        "id": "XHJl8auxN6k1",
        "outputId": "cfccda77-300b-4fca-83ac-524272e03399"
      },
      "outputs": [
        {
          "output_type": "stream",
          "name": "stdout",
          "text": [
            "Collecting demoji\n",
            "  Downloading demoji-1.1.0-py3-none-any.whl.metadata (9.2 kB)\n",
            "Downloading demoji-1.1.0-py3-none-any.whl (42 kB)\n",
            "\u001b[?25l   \u001b[90m━━━━━━━━━━━━━━━━━━━━━━━━━━━━━━━━━━━━━━━━\u001b[0m \u001b[32m0.0/42.9 kB\u001b[0m \u001b[31m?\u001b[0m eta \u001b[36m-:--:--\u001b[0m\r\u001b[2K   \u001b[90m━━━━━━━━━━━━━━━━━━━━━━━━━━━━━━━━━━━━━━━━\u001b[0m \u001b[32m42.9/42.9 kB\u001b[0m \u001b[31m1.6 MB/s\u001b[0m eta \u001b[36m0:00:00\u001b[0m\n",
            "\u001b[?25hInstalling collected packages: demoji\n",
            "Successfully installed demoji-1.1.0\n"
          ]
        }
      ],
      "source": [
        "!pip install demoji                  #Install the library"
      ]
    },
    {
      "cell_type": "code",
      "source": [
        "import demoji                        #Import the library\n",
        "\n",
        "demoji.download_codes()           #this function is used to download a file that contains a mapping of emoji characters to their respective descriptions (codes)."
      ],
      "metadata": {
        "colab": {
          "base_uri": "https://localhost:8080/"
        },
        "id": "ZomCA0TmOF3Q",
        "outputId": "323d1c45-6e4b-4d96-f4bb-419f86ed4e7d"
      },
      "execution_count": 2,
      "outputs": [
        {
          "output_type": "stream",
          "name": "stderr",
          "text": [
            "<ipython-input-2-eb011a9810ad>:2: FutureWarning: The demoji.download_codes attribute is deprecated and will be removed from demoji in a future version. It is an unused attribute as emoji codes are now distributed directly with the demoji package.\n",
            "  demoji.download_codes()\n"
          ]
        }
      ]
    },
    {
      "cell_type": "markdown",
      "source": [
        "# Example **1**:"
      ],
      "metadata": {
        "id": "r95OrMk4PYSx"
      }
    },
    {
      "cell_type": "code",
      "source": [
        "import demoji\n",
        "text= \"\"\"Hello! 😊 How are you? 🤔 Have a great day! 🌞\"\"\"\n",
        "demoji.findall(text)                       # demoji.findall(text) finds and returns the list of emojis in the string text.\n"
      ],
      "metadata": {
        "colab": {
          "base_uri": "https://localhost:8080/"
        },
        "id": "MjmM54CxOLpG",
        "outputId": "4b330d1a-e6c9-459c-ad13-9bceaa6aa786"
      },
      "execution_count": 3,
      "outputs": [
        {
          "output_type": "execute_result",
          "data": {
            "text/plain": [
              "{'😊': 'smiling face with smiling eyes',\n",
              " '🤔': 'thinking face',\n",
              " '🌞': 'sun with face'}"
            ]
          },
          "metadata": {},
          "execution_count": 3
        }
      ]
    },
    {
      "cell_type": "markdown",
      "source": [
        "# Example **2**:"
      ],
      "metadata": {
        "id": "-3stSjMiOeTa"
      }
    },
    {
      "cell_type": "code",
      "source": [
        "import demoji\n",
        "text= \"\"\"Here’s a message with more complex and unique emojis:\n",
        "\n",
        "\"Exploring the universe 🌌🪐, diving deep into knowledge 📚🧠, and embracing new adventures 🌍✨! Stay curious and keep learning 🔍🚀.\"\"\"\n",
        "\n",
        "demoji.findall(text)\n",
        ""
      ],
      "metadata": {
        "colab": {
          "base_uri": "https://localhost:8080/"
        },
        "id": "NGSEMJwiOhv7",
        "outputId": "80bbbc01-ebdd-4c4d-a744-c4b42f7e63e5"
      },
      "execution_count": 4,
      "outputs": [
        {
          "output_type": "execute_result",
          "data": {
            "text/plain": [
              "{'📚': 'books',\n",
              " '🚀': 'rocket',\n",
              " '🔍': 'magnifying glass tilted left',\n",
              " '🌍': 'globe showing Europe-Africa',\n",
              " '🌌': 'milky way',\n",
              " '🪐': 'ringed planet',\n",
              " '✨': 'sparkles',\n",
              " '🧠': 'brain'}"
            ]
          },
          "metadata": {},
          "execution_count": 4
        }
      ]
    }
  ]
}