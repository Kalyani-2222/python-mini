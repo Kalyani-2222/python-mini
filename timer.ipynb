{
  "nbformat": 4,
  "nbformat_minor": 0,
  "metadata": {
    "colab": {
      "provenance": [],
      "authorship_tag": "ABX9TyPiEjd2RVCDRR6HZfk5RBju",
      "include_colab_link": true
    },
    "kernelspec": {
      "name": "python3",
      "display_name": "Python 3"
    },
    "language_info": {
      "name": "python"
    }
  },
  "cells": [
    {
      "cell_type": "markdown",
      "metadata": {
        "id": "view-in-github",
        "colab_type": "text"
      },
      "source": [
        "<a href=\"https://colab.research.google.com/github/Kalyani-2222/python-mini/blob/main/timer.ipynb\" target=\"_parent\"><img src=\"https://colab.research.google.com/assets/colab-badge.svg\" alt=\"Open In Colab\"/></a>"
      ]
    },
    {
      "cell_type": "code",
      "execution_count": 3,
      "metadata": {
        "id": "QJX4TvZ4UlHw"
      },
      "outputs": [],
      "source": [
        "import time               # You need this to use time.sleep()"
      ]
    },
    {
      "cell_type": "code",
      "source": [
        "def countdown(t):\n",
        "  while t:                                         #i.e., countdown continues as long as t > 0\n",
        "    mins, secs = divmod(t, 60)\n",
        "    timer = '{:02d}:{:02d}'.format(mins,secs)\n",
        "    print(timer)\n",
        "    time.sleep(1)\n",
        "    t-=1\n",
        "  print('fire in the hole!!')\n",
        "t = input(\"Enter time in seconds \")\n",
        "countdown(int(t))"
      ],
      "metadata": {
        "colab": {
          "base_uri": "https://localhost:8080/"
        },
        "id": "Kni3yaH7UxCK",
        "outputId": "442354d5-9622-4f34-d151-34d37690a48f"
      },
      "execution_count": 10,
      "outputs": [
        {
          "output_type": "stream",
          "name": "stdout",
          "text": [
            "Enter time in seconds 20\n",
            "00:20\n",
            "00:19\n",
            "00:18\n",
            "00:17\n",
            "00:16\n",
            "00:15\n",
            "00:14\n",
            "00:13\n",
            "00:12\n",
            "00:11\n",
            "00:10\n",
            "00:09\n",
            "00:08\n",
            "00:07\n",
            "00:06\n",
            "00:05\n",
            "00:04\n",
            "00:03\n",
            "00:02\n",
            "00:01\n",
            "fire in the hole!!\n"
          ]
        }
      ]
    }
  ]
}